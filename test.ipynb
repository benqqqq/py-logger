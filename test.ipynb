{
 "cells": [
  {
   "cell_type": "code",
   "execution_count": 5,
   "metadata": {},
   "outputs": [
    {
     "name": "stdout",
     "output_type": "stream",
     "text": [
      "\u001b[31;43m 123 456 \u001b[0m\n",
      "123\n"
     ]
    }
   ],
   "source": [
    "print('\\x1b[31;43m',123, 456,'\\x1b[0m')\n",
    "print('123')"
   ]
  },
  {
   "cell_type": "code",
   "execution_count": 14,
   "metadata": {},
   "outputs": [
    {
     "name": "stdout",
     "output_type": "stream",
     "text": [
      "a\n",
      "b\n"
     ]
    },
    {
     "ename": "KeyError",
     "evalue": "'c'",
     "output_type": "error",
     "traceback": [
      "\u001b[0;31m---------------------------------------------------------------------------\u001b[0m",
      "\u001b[0;31mKeyError\u001b[0m                                  Traceback (most recent call last)",
      "\u001b[0;32m<ipython-input-14-074663012042>\u001b[0m in \u001b[0;36m<module>\u001b[0;34m()\u001b[0m\n\u001b[1;32m      4\u001b[0m \u001b[0;34m'123'\u001b[0m\u001b[0;34m.\u001b[0m\u001b[0mjoin\u001b[0m\u001b[0;34m(\u001b[0m\u001b[0md\u001b[0m\u001b[0;34m.\u001b[0m\u001b[0mkeys\u001b[0m\u001b[0;34m(\u001b[0m\u001b[0;34m)\u001b[0m\u001b[0;34m)\u001b[0m\u001b[0;34m\u001b[0m\u001b[0m\n\u001b[1;32m      5\u001b[0m \u001b[0;34m\u001b[0m\u001b[0m\n\u001b[0;32m----> 6\u001b[0;31m \u001b[0md\u001b[0m\u001b[0;34m[\u001b[0m\u001b[0;34m'c'\u001b[0m\u001b[0;34m]\u001b[0m\u001b[0;34m\u001b[0m\u001b[0m\n\u001b[0m",
      "\u001b[0;31mKeyError\u001b[0m: 'c'"
     ]
    }
   ],
   "source": [
    "d={\"a\":1,'b':2}\n",
    "for key in d.keys():\n",
    "    print(key)\n",
    "'123'.join(d.keys())\n",
    "\n",
    "try\n",
    "d['c']"
   ]
  },
  {
   "cell_type": "code",
   "execution_count": 11,
   "metadata": {},
   "outputs": [
    {
     "name": "stdout",
     "output_type": "stream",
     "text": [
      "123\n"
     ]
    }
   ],
   "source": [
    "'abc'.upper()\n",
    "def abc():\n",
    "    def cde():\n",
    "        print(123)\n",
    "    cde()\n",
    "abc()"
   ]
  },
  {
   "cell_type": "code",
   "execution_count": 4,
   "metadata": {},
   "outputs": [
    {
     "name": "stdout",
     "output_type": "stream",
     "text": [
      "[02-04 10:19:04]\n"
     ]
    }
   ],
   "source": [
    "import time\n",
    "print(time.strftime('[%m-%d %H:%M:%S]'))"
   ]
  },
  {
   "cell_type": "code",
   "execution_count": 6,
   "metadata": {},
   "outputs": [
    {
     "name": "stdout",
     "output_type": "stream",
     "text": [
      "Traceback(filename='<ipython-input-6-03a0efc6df22>', lineno=6, function='<module>', code_context=['hi()\\n'], index=0)\n",
      "\n"
     ]
    }
   ],
   "source": [
    "import inspect\n",
    "def hi():\n",
    "    previous_frame = inspect.currentframe().f_back\n",
    "    print(inspect.getframeinfo(previous_frame))\n",
    "\n",
    "hi()\n",
    "print()"
   ]
  },
  {
   "cell_type": "code",
   "execution_count": 19,
   "metadata": {},
   "outputs": [
    {
     "name": "stdout",
     "output_type": "stream",
     "text": [
      "\u001b[36m this is a cyan log \u001b[0m\n",
      "\u001b[31m 1 2 3 \u001b[0m\n",
      "\u001b[44;33m this log is blue and with background color yellow \u001b[0m\n",
      "\u001b[31;43m 3 4 5 \u001b[0m\n",
      "\u001b[34;1m this is a blue-Bold log \u001b[0m\n",
      "\u001b[44;33m this is as same as logger.bgBlue \u001b[0m\n",
      "\u001b[36m BG_COLORS \u001b[0m\n",
      "\u001b[3m BG_BLACK, BG_RED, BG_GREEN, BG_YELLOW, BG_BLUE, BG_MAGENTA, BG_CYAN, BG_WHITE \u001b[0m\n",
      "\u001b[36m EFFECTS \u001b[0m\n",
      "\u001b[3m RESET, BOLD, FAINT, ITALIC, UNDERLINE \u001b[0m\n",
      "\u001b[36m COLORS \u001b[0m\n",
      "\u001b[3m BLACK, RED, GREEN, YELLOW, BLUE, MAGENTA, CYAN, WHITE \u001b[0m\n",
      "\u001b[31;4m this is equl to logger.log(['red','underline'], ...) \u001b[0m\n",
      "\u001b[31m <ipython-input-19-d73a56b1dc62>:12/test 1 2 \u001b[0m\n",
      "<ipython-input-19-d73a56b1dc62>:13/test logger.printStack()\n",
      "<ipython-input-19-d73a56b1dc62>:18/a test()\n",
      "<ipython-input-19-d73a56b1dc62>:19/<module> a()\n",
      "C:\\Users\\ChunTing\\Anaconda3\\lib\\site-packages\\IPython\\core\\interactiveshell.py:2862/run_code exec(code_obj,self.user_global_ns,self.user_ns)\n",
      "C:\\Users\\ChunTing\\Anaconda3\\lib\\site-packages\\IPython\\core\\interactiveshell.py:2802/run_ast_nodes ifself.run_code(code,result):\n",
      "C:\\Users\\ChunTing\\Anaconda3\\lib\\site-packages\\IPython\\core\\interactiveshell.py:2698/run_cell interactivity=interactivity,compiler=compiler,result=result)\n",
      "C:\\Users\\ChunTing\\Anaconda3\\lib\\site-packages\\ipykernel\\zmqshell.py:533/run_cell returnsuper(ZMQInteractiveShell,self).run_cell(*args,**kwargs)\n",
      "C:\\Users\\ChunTing\\Anaconda3\\lib\\site-packages\\ipykernel\\ipkernel.py:196/do_execute res=shell.run_cell(code,store_history=store_history,silent=silent)\n",
      "C:\\Users\\ChunTing\\Anaconda3\\lib\\site-packages\\ipykernel\\kernelbase.py:399/execute_request user_expressions,allow_stdin)\n",
      "C:\\Users\\ChunTing\\Anaconda3\\lib\\site-packages\\ipykernel\\kernelbase.py:235/dispatch_shell handler(stream,idents,msg)\n",
      "C:\\Users\\ChunTing\\Anaconda3\\lib\\site-packages\\ipykernel\\kernelbase.py:283/dispatcher returnself.dispatch_shell(stream,msg)\n",
      "C:\\Users\\ChunTing\\Anaconda3\\lib\\site-packages\\tornado\\stack_context.py:277/null_wrapper returnfn(*args,**kwargs)\n",
      "C:\\Users\\ChunTing\\Anaconda3\\lib\\site-packages\\zmq\\eventloop\\zmqstream.py:414/_run_callback callback(*args,**kwargs)\n",
      "C:\\Users\\ChunTing\\Anaconda3\\lib\\site-packages\\zmq\\eventloop\\zmqstream.py:472/_handle_recv self._run_callback(callback,msg)\n",
      "C:\\Users\\ChunTing\\Anaconda3\\lib\\site-packages\\zmq\\eventloop\\zmqstream.py:440/_handle_events self._handle_recv()\n",
      "C:\\Users\\ChunTing\\Anaconda3\\lib\\site-packages\\tornado\\stack_context.py:277/null_wrapper returnfn(*args,**kwargs)\n",
      "C:\\Users\\ChunTing\\Anaconda3\\lib\\site-packages\\tornado\\ioloop.py:888/start handler_func(fd_obj,events)\n",
      "C:\\Users\\ChunTing\\Anaconda3\\lib\\site-packages\\zmq\\eventloop\\ioloop.py:177/start super(ZMQIOLoop,self).start()\n",
      "C:\\Users\\ChunTing\\Anaconda3\\lib\\site-packages\\ipykernel\\kernelapp.py:477/start ioloop.IOLoop.instance().start()\n",
      "C:\\Users\\ChunTing\\Anaconda3\\lib\\site-packages\\traitlets\\config\\application.py:658/launch_instance app.start()\n",
      "C:\\Users\\ChunTing\\Anaconda3\\lib\\site-packages\\ipykernel_launcher.py:16/<module> app.launch_new_instance()\n",
      "C:\\Users\\ChunTing\\Anaconda3\\lib\\runpy.py:85/_run_code exec(code,run_globals)\n",
      "C:\\Users\\ChunTing\\Anaconda3\\lib\\runpy.py:193/_run_module_as_main \"__main__\",mod_spec)\n",
      "\u001b[33;1mthis is yellow and bold\n",
      "\u001b[21;22;23;24;0mthis is normal log\n"
     ]
    }
   ],
   "source": [
    "\n",
    "from ctlogger import logger\n",
    "logger.cyan('this', 'is', 'a', 'cyan', 'log')\n",
    "logger.red(1, 2, 3)\n",
    "logger.bgBlue('this', 'log', 'is', 'blue', 'and with background color yellow')\n",
    "logger.log(['red','Bg_Yellow'], 3,4,5) #print 3,4,5 (with font-color:red, backgroud is yellow)\n",
    "logger.log(['blue', 'Bold'], 'this', 'is', 'a', 'blue-Bold', 'log')\n",
    "logger.log(['BG_BLUE', 'YELLOW'], 'this', 'is', 'as', 'same', 'as', 'logger.bgBlue')\n",
    "logger.showOpts()\n",
    "logger.byCodes(['31','4'], \"this is equl to logger.log(['red','underline'], ...)\")\n",
    "def test():\n",
    "    logger.printLineInfo('1','2')\n",
    "    logger.printStack()\n",
    "    #<YOUR_FILE_NAME>:13/test logger.printStack()\n",
    "    #<YOUR_FILE_NAME>:15/a test()\n",
    "    #<YOUR_FILE_NAME>:16/<module> a()\n",
    "def a():\n",
    "    test()\n",
    "a()\n",
    "logger.start('yellow','bold')\n",
    "print('this is yellow and bold')\n",
    "logger.end()\n",
    "print('this is normal log')"
   ]
  },
  {
   "cell_type": "code",
   "execution_count": null,
   "metadata": {
    "collapsed": true
   },
   "outputs": [],
   "source": []
  }
 ],
 "metadata": {
  "kernelspec": {
   "display_name": "Python 3",
   "language": "python",
   "name": "python3"
  },
  "language_info": {
   "codemirror_mode": {
    "name": "ipython",
    "version": 3
   },
   "file_extension": ".py",
   "mimetype": "text/x-python",
   "name": "python",
   "nbconvert_exporter": "python",
   "pygments_lexer": "ipython3",
   "version": "3.6.3"
  }
 },
 "nbformat": 4,
 "nbformat_minor": 2
}
